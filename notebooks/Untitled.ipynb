{
 "cells": [
  {
   "cell_type": "code",
   "execution_count": 2,
   "metadata": {},
   "outputs": [],
   "source": [
    "import parent"
   ]
  },
  {
   "cell_type": "code",
   "execution_count": 3,
   "metadata": {},
   "outputs": [],
   "source": [
    "import networks\n"
   ]
  },
  {
   "cell_type": "code",
   "execution_count": 4,
   "metadata": {},
   "outputs": [],
   "source": [
    "import data"
   ]
  },
  {
   "cell_type": "code",
   "execution_count": 46,
   "metadata": {},
   "outputs": [],
   "source": [
    "d1, d2 = data.get_dataset_triangles(\n",
    "    \"train\", data_size=28, hollow=True\n",
    ")"
   ]
  },
  {
   "cell_type": "code",
   "execution_count": 43,
   "metadata": {},
   "outputs": [],
   "source": [
    "image_A, image_B = (x[0].cuda() for x in next(zip(d1, d2)))"
   ]
  },
  {
   "cell_type": "code",
   "execution_count": 50,
   "metadata": {},
   "outputs": [],
   "source": [
    "import torch\n",
    "from torch import nn\n",
    "import numpy as np\n",
    "from mermaidlite import compute_warped_image_multiNC, identity_map_multiN\n",
    "\n",
    "import torch.nn.functional as F\n",
    "\n",
    "class DenseMatrixNet(nn.Module):\n",
    "    def __init__(self, size=28):\n",
    "        super(DenseMatrixNet, self).__init__()\n",
    "        self.size=size\n",
    "        self.dense1 = nn.Linear(size *size  * 2, 8000)\n",
    "        self.dense2 = nn.Linear(8000, 3000)\n",
    "        self.dense3 = nn.Linear(3000, 12)\n",
    "        torch.nn.init.zeros_(self.dense3.weight)\n",
    "\n",
    "    def forward(self, x, y):\n",
    "        x = torch.reshape(torch.cat([x, y], 1), (-1, 2 * self.size * self.size))\n",
    "        x = F.relu(self.dense1(x))\n",
    "        x = F.relu(self.dense2(x))\n",
    "        x = self.dense3(x)\n",
    "        x = torch.reshape(x, (-1, 3, 4))\n",
    "        x = torch.cat([x, torch.Tensor([[[0, 0, 0, 1]]]).cuda().expand(x.shape[0], -1, -1)], 1)\n",
    "        x = x + torch.Tensor([[1, 0, 0, 0], [0, 1, 0, 0], [0, 0, 1, 0], [0, 0, 0, 0]]).cuda()\n",
    "        return x\n",
    "\n",
    "\n",
    "class InverseConsistentAffineNet(nn.Module):\n",
    "    def __init__(self, network, lmbda, input_shape):\n",
    "        super(InverseConsistentAffineNet, self).__init__()\n",
    "\n",
    "        self.sz = np.array(input_shape)\n",
    "        self.spacing = 1.0 / (self.sz[2::] - 1)\n",
    "\n",
    "        _id = identity_map_multiN(self.sz, self.spacing)\n",
    "        self.register_buffer(\"identityMap\", torch.from_numpy(_id))\n",
    "        self.map_shape = self.identityMap.shape\n",
    "        self.regis_net = network\n",
    "        self.lmbda = lmbda\n",
    "\n",
    "    def adjust_batch_size(self, BATCH_SIZE):\n",
    "        self.sz[0] = BATCH_SIZE\n",
    "        self.spacing = 1.0 / (self.sz[2::] - 1)\n",
    "\n",
    "        _id = identity_map_multiN(self.sz, self.spacing)\n",
    "        self.register_buffer(\"identityMap\", torch.from_numpy(_id))\n",
    "\n",
    "    def forward(self, image_A, image_B):\n",
    "        #Compute Displacement Maps\n",
    "        self.matrix_AB = self.regis_net(image_A, image_B)\n",
    "        \n",
    "        self.phi_AB = torch.einsum(\"ijkl,ijm->imkl\", self.identityMap, self.matrix_AB)\n",
    "\n",
    "        self.matrix_BA = self.regis_net(image_B, image_A)\n",
    "\n",
    "        #Compute Image similarity\n",
    "\n",
    "        self.warped_image_A = compute_warped_image_multiNC(\n",
    "            image_A, self.phi_AB, self.spacing, 1\n",
    "        )\n",
    "\n",
    "        self.warped_image_B = compute_warped_image_multiNC(\n",
    "            image_B, self.phi_BA, self.spacing, 1\n",
    "        )\n",
    "\n",
    "        similarity_loss = torch.mean((self.warped_image_A - image_B) ** 2) + torch.mean(\n",
    "            (self.warped_image_B - image_A) ** 2\n",
    "        )\n",
    "        \n",
    "        #Compute Inverse Consistency\n",
    "        #One way\n",
    "\n",
    "        Iepsilon = (\n",
    "            self.identityMap\n",
    "            + torch.randn(*self.map_shape).cuda() * 1 / self.map_shape[-1]\n",
    "        )\n",
    "\n",
    "        D_BA_epsilon = compute_warped_image_multiNC(\n",
    "            self.D_BA, Iepsilon, self.spacing, 1\n",
    "        )\n",
    "\n",
    "        self.approximate_identity = (\n",
    "            compute_warped_image_multiNC(\n",
    "                self.D_AB, D_BA_epsilon + Iepsilon, self.spacing, 1\n",
    "            )\n",
    "            + D_BA_epsilon\n",
    "        )\n",
    "        #And the Other\n",
    "        D_AB_epsilon = compute_warped_image_multiNC(\n",
    "            self.D_AB, Iepsilon, self.spacing, 1\n",
    "        )\n",
    "\n",
    "        self.approximate_identity2 = (\n",
    "            compute_warped_image_multiNC(\n",
    "                self.D_BA, D_AB_epsilon + Iepsilon, self.spacing, 1\n",
    "            )\n",
    "            + D_AB_epsilon\n",
    "        )\n",
    "\n",
    "        inverse_consistency_loss = self.lmbda * torch.mean(\n",
    "            (self.approximate_identity) ** 2 + (self.approximate_identity2)**2\n",
    "        )\n",
    "        transform_magnitude = self.lmbda * torch.mean(\n",
    "            (self.identityMap - self.phi_AB) ** 2\n",
    "        )\n",
    "        self.all_loss = inverse_consistency_loss + similarity_loss\n",
    "        return [\n",
    "            x\n",
    "            for x in (\n",
    "                self.all_loss,\n",
    "                inverse_consistency_loss,\n",
    "                similarity_loss,\n",
    "                transform_magnitude,\n",
    "            )\n",
    "        ]\n",
    "class MapToFunctionNet(nn.Module):\n",
    "    def __init__(self, network, input_shape):\n",
    "        pass "
   ]
  },
  {
   "cell_type": "code",
   "execution_count": 51,
   "metadata": {},
   "outputs": [
    {
     "data": {
      "text/plain": [
       "InverseConsistentAffineNet(\n",
       "  (regis_net): DenseMatrixNet(\n",
       "    (dense1): Linear(in_features=1568, out_features=8000, bias=True)\n",
       "    (dense2): Linear(in_features=8000, out_features=3000, bias=True)\n",
       "    (dense3): Linear(in_features=3000, out_features=12, bias=True)\n",
       "  )\n",
       ")"
      ]
     },
     "execution_count": 51,
     "metadata": {},
     "output_type": "execute_result"
    }
   ],
   "source": [
    "net = InverseConsistentAffineNet(DenseMatrixNet(), 2048, next(iter(d1))[0].size())\n",
    "net.cuda()"
   ]
  },
  {
   "cell_type": "code",
   "execution_count": 52,
   "metadata": {},
   "outputs": [
    {
     "ename": "TypeError",
     "evalue": "einsum() missing 1 required positional argument: 'equation'",
     "output_type": "error",
     "traceback": [
      "\u001b[0;31m---------------------------------------------------------------------------\u001b[0m",
      "\u001b[0;31mTypeError\u001b[0m                                 Traceback (most recent call last)",
      "\u001b[0;32m<ipython-input-52-9bbbcf7725fd>\u001b[0m in \u001b[0;36m<module>\u001b[0;34m\u001b[0m\n\u001b[0;32m----> 1\u001b[0;31m \u001b[0mqq\u001b[0m \u001b[0;34m=\u001b[0m \u001b[0mnet\u001b[0m\u001b[0;34m(\u001b[0m\u001b[0mimage_A\u001b[0m\u001b[0;34m,\u001b[0m \u001b[0mimage_B\u001b[0m\u001b[0;34m)\u001b[0m\u001b[0;34m\u001b[0m\u001b[0m\n\u001b[0m",
      "\u001b[0;32m/playpen-raid1/tgreer/anaconda3/envs/mermaid5/lib/python3.7/site-packages/torch/nn/modules/module.py\u001b[0m in \u001b[0;36m_call_impl\u001b[0;34m(self, *input, **kwargs)\u001b[0m\n\u001b[1;32m    725\u001b[0m             \u001b[0mresult\u001b[0m \u001b[0;34m=\u001b[0m \u001b[0mself\u001b[0m\u001b[0;34m.\u001b[0m\u001b[0m_slow_forward\u001b[0m\u001b[0;34m(\u001b[0m\u001b[0;34m*\u001b[0m\u001b[0minput\u001b[0m\u001b[0;34m,\u001b[0m \u001b[0;34m**\u001b[0m\u001b[0mkwargs\u001b[0m\u001b[0;34m)\u001b[0m\u001b[0;34m\u001b[0m\u001b[0m\n\u001b[1;32m    726\u001b[0m         \u001b[0;32melse\u001b[0m\u001b[0;34m:\u001b[0m\u001b[0;34m\u001b[0m\u001b[0m\n\u001b[0;32m--> 727\u001b[0;31m             \u001b[0mresult\u001b[0m \u001b[0;34m=\u001b[0m \u001b[0mself\u001b[0m\u001b[0;34m.\u001b[0m\u001b[0mforward\u001b[0m\u001b[0;34m(\u001b[0m\u001b[0;34m*\u001b[0m\u001b[0minput\u001b[0m\u001b[0;34m,\u001b[0m \u001b[0;34m**\u001b[0m\u001b[0mkwargs\u001b[0m\u001b[0;34m)\u001b[0m\u001b[0;34m\u001b[0m\u001b[0m\n\u001b[0m\u001b[1;32m    728\u001b[0m         for hook in itertools.chain(\n\u001b[1;32m    729\u001b[0m                 \u001b[0m_global_forward_hooks\u001b[0m\u001b[0;34m.\u001b[0m\u001b[0mvalues\u001b[0m\u001b[0;34m(\u001b[0m\u001b[0;34m)\u001b[0m\u001b[0;34m,\u001b[0m\u001b[0;34m\u001b[0m\u001b[0m\n",
      "\u001b[0;32m<ipython-input-50-400296e7eaeb>\u001b[0m in \u001b[0;36mforward\u001b[0;34m(self, image_A, image_B)\u001b[0m\n\u001b[1;32m     50\u001b[0m         \u001b[0mself\u001b[0m\u001b[0;34m.\u001b[0m\u001b[0mmatrix_AB\u001b[0m \u001b[0;34m=\u001b[0m \u001b[0mself\u001b[0m\u001b[0;34m.\u001b[0m\u001b[0mregis_net\u001b[0m\u001b[0;34m(\u001b[0m\u001b[0mimage_A\u001b[0m\u001b[0;34m,\u001b[0m \u001b[0mimage_B\u001b[0m\u001b[0;34m)\u001b[0m\u001b[0;34m\u001b[0m\u001b[0m\n\u001b[1;32m     51\u001b[0m \u001b[0;34m\u001b[0m\u001b[0m\n\u001b[0;32m---> 52\u001b[0;31m         \u001b[0mself\u001b[0m\u001b[0;34m.\u001b[0m\u001b[0mphi_AB\u001b[0m \u001b[0;34m=\u001b[0m \u001b[0mtorch\u001b[0m\u001b[0;34m.\u001b[0m\u001b[0meinsum\u001b[0m\u001b[0;34m(\u001b[0m\u001b[0;34m)\u001b[0m\u001b[0;34m\u001b[0m\u001b[0m\n\u001b[0m\u001b[1;32m     53\u001b[0m \u001b[0;34m\u001b[0m\u001b[0m\n\u001b[1;32m     54\u001b[0m         \u001b[0mself\u001b[0m\u001b[0;34m.\u001b[0m\u001b[0mmatrix_BA\u001b[0m \u001b[0;34m=\u001b[0m \u001b[0mself\u001b[0m\u001b[0;34m.\u001b[0m\u001b[0mregis_net\u001b[0m\u001b[0;34m(\u001b[0m\u001b[0mimage_B\u001b[0m\u001b[0;34m,\u001b[0m \u001b[0mimage_A\u001b[0m\u001b[0;34m)\u001b[0m\u001b[0;34m\u001b[0m\u001b[0m\n",
      "\u001b[0;31mTypeError\u001b[0m: einsum() missing 1 required positional argument: 'equation'"
     ]
    }
   ],
   "source": [
    "qq = net(image_A, image_B)"
   ]
  },
  {
   "cell_type": "code",
   "execution_count": 44,
   "metadata": {},
   "outputs": [
    {
     "ename": "RuntimeError",
     "evalue": "more operands in equation than tensors",
     "output_type": "error",
     "traceback": [
      "\u001b[0;31m---------------------------------------------------------------------------\u001b[0m",
      "\u001b[0;31mRuntimeError\u001b[0m                              Traceback (most recent call last)",
      "\u001b[0;32m<ipython-input-44-4d5e9c441c76>\u001b[0m in \u001b[0;36m<module>\u001b[0;34m\u001b[0m\n\u001b[0;32m----> 1\u001b[0;31m \u001b[0mtorch\u001b[0m\u001b[0;34m.\u001b[0m\u001b[0meinsum\u001b[0m\u001b[0;34m(\u001b[0m\u001b[0;34m\"ijkl,jm->imkl\"\u001b[0m\u001b[0;34m)\u001b[0m\u001b[0;34m\u001b[0m\u001b[0m\n\u001b[0m",
      "\u001b[0;32m/playpen-raid1/tgreer/anaconda3/envs/mermaid5/lib/python3.7/site-packages/torch/functional.py\u001b[0m in \u001b[0;36meinsum\u001b[0;34m(equation, *operands)\u001b[0m\n\u001b[1;32m    342\u001b[0m         \u001b[0;32mreturn\u001b[0m \u001b[0meinsum\u001b[0m\u001b[0;34m(\u001b[0m\u001b[0mequation\u001b[0m\u001b[0;34m,\u001b[0m \u001b[0;34m*\u001b[0m\u001b[0m_operands\u001b[0m\u001b[0;34m)\u001b[0m\u001b[0;34m\u001b[0m\u001b[0m\n\u001b[1;32m    343\u001b[0m \u001b[0;34m\u001b[0m\u001b[0m\n\u001b[0;32m--> 344\u001b[0;31m     \u001b[0;32mreturn\u001b[0m \u001b[0m_VF\u001b[0m\u001b[0;34m.\u001b[0m\u001b[0meinsum\u001b[0m\u001b[0;34m(\u001b[0m\u001b[0mequation\u001b[0m\u001b[0;34m,\u001b[0m \u001b[0moperands\u001b[0m\u001b[0;34m)\u001b[0m  \u001b[0;31m# type: ignore\u001b[0m\u001b[0;34m\u001b[0m\u001b[0m\n\u001b[0m\u001b[1;32m    345\u001b[0m \u001b[0;34m\u001b[0m\u001b[0m\n\u001b[1;32m    346\u001b[0m \u001b[0;34m\u001b[0m\u001b[0m\n",
      "\u001b[0;31mRuntimeError\u001b[0m: more operands in equation than tensors"
     ]
    }
   ],
   "source": []
  },
  {
   "cell_type": "code",
   "execution_count": 34,
   "metadata": {},
   "outputs": [],
   "source": [
    "image_A.expand?"
   ]
  },
  {
   "cell_type": "code",
   "execution_count": 1,
   "metadata": {},
   "outputs": [],
   "source": [
    "import pickle\n",
    "import matplotlib.pyplot as plt\n",
    "import numpy as np"
   ]
  },
  {
   "cell_type": "code",
   "execution_count": 2,
   "metadata": {},
   "outputs": [],
   "source": [
    "with open(\"../results/medrestrain_longtime_3090/loss_curve\", \"rb\") as f:\n",
    "    loss = pickle.load(f)"
   ]
  },
  {
   "cell_type": "code",
   "execution_count": 3,
   "metadata": {},
   "outputs": [
    {
     "data": {
      "text/plain": [
       "[<matplotlib.lines.Line2D at 0x7f6e55ed50f0>,\n",
       " <matplotlib.lines.Line2D at 0x7f6e55ed5128>]"
      ]
     },
     "execution_count": 3,
     "metadata": {},
     "output_type": "execute_result"
    },
    {
     "data": {
      "image/png": "[encoded data removed]",
      "text/plain": [
       "<Figure size 432x288 with 1 Axes>"
      ]
     },
     "metadata": {
      "needs_background": "light"
     },
     "output_type": "display_data"
    }
   ],
   "source": [
    "plt.plot(np.array(loss)[:, :2])"
   ]
  },
  {
   "cell_type": "code",
   "execution_count": 4,
   "metadata": {},
   "outputs": [
    {
     "data": {
      "text/plain": [
       "[<matplotlib.lines.Line2D at 0x7f6e55ece588>]"
      ]
     },
     "execution_count": 4,
     "metadata": {},
     "output_type": "execute_result"
    },
    {
     "data": {
      "image/png": "[encoded data removed]",
      "text/plain": [
       "<Figure size 432x288 with 1 Axes>"
      ]
     },
     "metadata": {
      "needs_background": "light"
     },
     "output_type": "display_data"
    }
   ],
   "source": [
    "plt.plot(np.array(loss)[:, 2])"
   ]
  },
  {
   "cell_type": "code",
   "execution_count": null,
   "metadata": {},
   "outputs": [],
   "source": []
  }
 ],
 "metadata": {
  "kernelspec": {
   "display_name": "Python 3",
   "language": "python",
   "name": "python3"
  },
  "language_info": {
   "codemirror_mode": {
    "name": "ipython",
    "version": 3
   },
   "file_extension": ".py",
   "mimetype": "text/x-python",
   "name": "python",
   "nbconvert_exporter": "python",
   "pygments_lexer": "ipython3",
   "version": "3.7.0"
  }
 },
 "nbformat": 4,
 "nbformat_minor": 4
}
